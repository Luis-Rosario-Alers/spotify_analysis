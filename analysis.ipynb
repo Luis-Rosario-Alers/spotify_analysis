{
 "cells": [
  {
   "cell_type": "markdown",
   "id": "d12f992c",
   "metadata": {},
   "source": [
    "# Analyzing My Personal Music Library: Trends, Moods, and Predictions.\n",
    "\n",
    "I decided to analyse my personal playlists because I think that it would be interesting to see trends in what I listen to and predict what I will listen to in the future. My goal with this essay is to find correlations in my music and intepret that data to be able to understand my finding. \n",
    "\n",
    "## Possible Discoveries\n",
    "\n",
    "- **Trends**: I want to see if there are any trends in my music library.\n",
    "\n",
    "  *do I listen to more pop music in the summer? Do I listen to more sad songs in the winter?*\n",
    "\n",
    "- **Moods**: I want to see if there are any correlations between the moods of the songs I listen to and my own moods.\n",
    "\n",
    "  *do I listen to more happy songs when I'm feeling happy? Do I listen to more sad songs when I'm feeling sad?*\n",
    "\n",
    "- **Predictions**: I want to see if I can predict what I will listen to in the future based on my past listening habits. \n",
    "  \n",
    "  *do I tend to listen to more upbeat songs in the spring? Do I listen to more introspective songs in the fall?*\n",
    "\n",
    "- **Genres**: I want to see if there are any correlations between the genres of the songs I listen to and my own moods.\n",
    "\n",
    "  *do I listen to more pop music when I'm feeling happy? Do I listen to more sad music when I'm feeling sad?*\n",
    "\n",
    "- **Artists**: I want to see if there are any correlations between the artists I listen to and my own moods.\n",
    "\n",
    "  *do I listen to more upbeat artists when I'm feeling happy? Do I listen to more introspective artists when I'm feeling sad?*\n",
    "\n",
    "- **Release Dates**: I want to see if there are any correlations between the release dates of the songs I listen to and my own moods.\n",
    "\n",
    "  *do I listen to more new music when I'm feeling happy? Do I listen to more old music when I'm feeling sad?*\n",
    "\n",
    "- **Popularity Metrics**: I want to see if there are any correlations between the popularity metrics of the songs I listen to and my own moods.\n",
    "\n",
    "  *do I listen to more popular songs when I'm feeling happy? Do I listen to more obscure songs when I'm feeling sad?*\n",
    "\n",
    "## Data Collection Phase\n",
    "\n",
    "To analyze my personal music library, I first needed to collect data about my playlists. I used the Spotify API to extract information about my playlists, including the tracks, artists, and genres. I also gathered data on the release dates of the tracks and their popularity metrics."
   ]
  },
  {
   "cell_type": "code",
   "execution_count": null,
   "id": "7e9fc0d6",
   "metadata": {},
   "outputs": [
    {
     "name": "stdout",
     "output_type": "stream",
     "text": [
      "Found 50 playlists.\n"
     ]
    },
    {
     "data": {
      "image/png": "[encoded data removed]",
      "text/plain": [
       "<Figure size 800x600 with 1 Axes>"
      ]
     },
     "metadata": {},
     "output_type": "display_data"
    },
    {
     "ename": "",
     "evalue": "",
     "output_type": "error",
     "traceback": [
      "\u001b[1;31mThe Kernel crashed while executing code in the current cell or a previous cell. \n",
      "\u001b[1;31mPlease review the code in the cell(s) to identify a possible cause of the failure. \n",
      "\u001b[1;31mClick <a href='https://aka.ms/vscodeJupyterKernelCrash'>here</a> for more info. \n",
      "\u001b[1;31mView Jupyter <a href='command:jupyter.viewOutput'>log</a> for further details."
     ]
    }
   ],
   "source": [
    "from spotipy import Spotify, SpotifyOAuth\n",
    "import pandas as pd\n",
    "import numpy as np\n",
    "import matplotlib.pyplot as plt\n",
    "from dotenv import load_dotenv\n",
    "import requests\n",
    "\n",
    "import os\n",
    "\n",
    "load_dotenv(\"secrets.env\")\n",
    "\n",
    "spotify_client_id = os.getenv('SPOTIFY_CLIENT_ID')\n",
    "spotify_client_secret = os.getenv('SPOTIFY_CLIENT_SECRET')\n",
    "spotify_redirect_uri = os.getenv('SPOTIFY_REDIRECT_URI')\n",
    "\n",
    "sp = Spotify(auth_manager=SpotifyOAuth(client_id=spotify_client_id, client_secret=spotify_client_secret, redirect_uri=spotify_redirect_uri))\n",
    "\n",
    "# Get all playlists for the user (already stored in 'playlists')\n",
    "all_tracks = []\n",
    "tracks = []\n",
    "\n",
    "playlists = sp.current_user_playlists()\n",
    "if playlists['items']:\n",
    "    print(f\"Found {len(playlists['items'])} playlists.\")\n",
    "\n",
    "for playlist in playlists['items']:\n",
    "    playlist_id = playlist['id']\n",
    "    results = sp.playlist_tracks(playlist_id)\n",
    "    tracks = results['items']\n",
    "    while results['next']:\n",
    "        results = sp.next(results)\n",
    "        tracks.extend(results['items'])\n",
    "    all_tracks.extend(tracks)\n",
    "\n",
    "# Flatten and extract relevant track info\n",
    "track_data = []\n",
    "for item in all_tracks:\n",
    "    track = item['track']\n",
    "    if track:  # skip if track is None (sometimes happens with removed tracks)\n",
    "        track_data.append({\n",
    "            'track_name': track['name'],\n",
    "            'artist': ', '.join([artist['name'] for artist in track['artists'] if artist['name'] is not None]),\n",
    "            'album': track['album']['name'],\n",
    "            'added_at': item['added_at'],\n",
    "            'track_id': track['id']\n",
    "        })\n",
    "\n",
    "tracks_df = pd.DataFrame(track_data)\n",
    "\n",
    "# Now that I have the track data, I can proceed with the analysis\n",
    "\n",
    "def get_audio_features(track_id, access_token):\n",
    "    url = f\"https://api.spotify.com/v1/audio-features/{track_id}\"\n",
    "    headers = {\"Authorization\": f\"Bearer {access_token}\"}\n",
    "    response = requests.get(url, headers=headers)\n",
    "    if response.status_code == 200:\n",
    "        return response.json()\n",
    "    else:\n",
    "        return None\n",
    "\n",
    "# Get your access token from Spotipy's OAuth manager\n",
    "access_token = sp.auth_manager.get_access_token(as_dict=False)\n",
    "\n",
    "audio_features = []\n",
    "for tid in tracks_df['track_id']:\n",
    "    features = get_audio_features(tid, access_token)\n",
    "    if features:\n",
    "        audio_features.append(features)\n",
    "    else:\n",
    "        audio_features.append({'valence': None, 'energy': None})\n",
    "\n",
    "features_df = pd.DataFrame(audio_features)\n",
    "tracks_df['valence'] = features_df['valence']\n",
    "tracks_df['energy'] = features_df['energy']\n",
    "\n",
    "# 3. Scatter plot: valence vs. energy (as a proxy for mood)\n",
    "plt.figure(figsize=(8,6))\n",
    "plt.scatter(tracks_df['valence'], tracks_df['energy'], alpha=0.7)\n",
    "plt.xlabel('Valence (Happiness)')\n",
    "plt.ylabel('Energy')\n",
    "plt.title('Scatter Plot of Song Mood (Valence vs. Energy)')\n",
    "plt.grid(True)\n",
    "plt.show()\n",
    "\n",
    "\n",
    "\n"
   ]
  },
  {
   "cell_type": "markdown",
   "id": "0d3e523a",
   "metadata": {
    "slideshow": {
     "slide_type": "skip"
    },
    "tags": [
     "parameters"
    ]
   },
   "source": [
    "### Interpretation"
   ]
  },
  {
   "cell_type": "markdown",
   "id": "7ff43b1f",
   "metadata": {
    "slideshow": {
     "slide_type": "subslide"
    }
   },
   "source": [
    "As you can see, my Spotify username popped up with the name **'cheese'**. This is a good sign and confirms that the authentication process with the Spotify API was successful. It is one of the first steps in analyzing my music library.\n",
    "\n",
    "### Next Steps: Aggregating Top Tracks\n",
    "\n",
    "The next step in the analysis is to aggregate **10 of my most played tracks of all time**. This will involve:\n",
    "\n",
    "1. Fetching data on my top tracks using the Spotify API.\n",
    "2. Extracting relevant attributes for each track, such as:\n",
    "   - Track name\n",
    "   - Artist(s)\n",
    "   - Play count\n",
    "   - Features like tempo, energy, and danceability.\n",
    "3. Structuring the data for further analysis and visualization."
   ]
  },
  {
   "cell_type": "code",
   "execution_count": null,
   "id": "9843574b",
   "metadata": {},
   "outputs": [],
   "source": []
  }
 ],
 "metadata": {
  "kernelspec": {
   "display_name": ".venv",
   "language": "python",
   "name": "python3"
  },
  "language_info": {
   "codemirror_mode": {
    "name": "ipython",
    "version": 3
   },
   "file_extension": ".py",
   "mimetype": "text/x-python",
   "name": "python",
   "nbconvert_exporter": "python",
   "pygments_lexer": "ipython3",
   "version": "3.13.1"
  }
 },
 "nbformat": 4,
 "nbformat_minor": 5
}
